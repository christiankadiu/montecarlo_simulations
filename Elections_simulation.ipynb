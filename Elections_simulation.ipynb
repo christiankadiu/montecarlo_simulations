{
 "cells": [
  {
   "cell_type": "code",
   "execution_count": null,
   "id": "a11f924a-c62c-4b93-b725-f0f1b35e4d26",
   "metadata": {},
   "outputs": [],
   "source": [
    "#simulazione Montecarlo per prevedere quale partito tra A e B ha più probabilità di vincere una elezione maggioritaria, \n",
    "#ossia in cui ci sono 5 collegi, e il partito che si aggiudica almeno 3 di questi collegi vince l’elezione."
   ]
  },
  {
   "cell_type": "code",
   "execution_count": 22,
   "id": "1cfe339e-e148-4006-918d-3e3f50ec1068",
   "metadata": {},
   "outputs": [],
   "source": [
    "import numpy as np\n",
    "import matplotlib.pyplot as plt\n",
    "import random"
   ]
  },
  {
   "cell_type": "code",
   "execution_count": 38,
   "id": "2a88679b-f8d3-443d-8987-1e19c0973e7c",
   "metadata": {},
   "outputs": [
    {
     "name": "stdout",
     "output_type": "stream",
     "text": [
      "la percentuale di vittoria del partito A è:  58.6411\n",
      "la percentuale di vittoria del partito B è:  41.3589\n"
     ]
    }
   ],
   "source": [
    "N = 100000 #numero di simulazioni da effettuare \n",
    "n = 5 #numero di collegi per elezione\n",
    "prob = np.array([0.7, 0.8, 0.6, 0.4, 0.2]) #probabilità del partito di A di vincere ciascun collegio \n",
    "#vincite = np.zeros(10000) #array che segna il vincitore per ogni elezione, se 1 ha vinto A, se 0 ha vinto B\n",
    "vinciteA = 0\n",
    "vinciteB = 0\n",
    "\n",
    "for i in range(N):\n",
    "    t = 0\n",
    "    for k in range(n):\n",
    "        p = random.random() \n",
    "        if p < prob[k]: #se il numero random che abbiamo estratto è compreso tra 0 e prob[k] vuol dire che questo seggio lo ha vinto A\n",
    "                        #e se è maggiore lo ha vinto B, è un modo per rendere la distribuzione di probabilità di vittoria di A\n",
    "            t += 1\n",
    "    if t > 2:\n",
    "        vinciteA += 1 #se A ha vinto più di 2 collegi (almeno 3) allora questa elezione l'ha vinta lui e incremento il suo contatore delle vincite \n",
    "    else:\n",
    "        vinciteB += 1\n",
    "percA = (vinciteA / N) * 100\n",
    "percB = (vinciteB / N) * 100\n",
    "print(\"la percentuale di vittoria del partito A è: \", percA)\n",
    "print(\"la percentuale di vittoria del partito B è: \", percB)\n",
    "\n",
    "\n",
    "\n",
    "\n",
    "\n",
    "\n"
   ]
  },
  {
   "cell_type": "code",
   "execution_count": null,
   "id": "4aad3ea1-b38c-4172-839d-afd371c7f1bd",
   "metadata": {},
   "outputs": [],
   "source": []
  },
  {
   "cell_type": "code",
   "execution_count": null,
   "id": "488573cb-6639-4016-bed8-1f7f1c13dc95",
   "metadata": {},
   "outputs": [],
   "source": []
  },
  {
   "cell_type": "code",
   "execution_count": null,
   "id": "85155126-eb66-4a9e-b4b2-01b828d73925",
   "metadata": {},
   "outputs": [],
   "source": []
  }
 ],
 "metadata": {
  "kernelspec": {
   "display_name": "Python [conda env:base] *",
   "language": "python",
   "name": "conda-base-py"
  },
  "language_info": {
   "codemirror_mode": {
    "name": "ipython",
    "version": 3
   },
   "file_extension": ".py",
   "mimetype": "text/x-python",
   "name": "python",
   "nbconvert_exporter": "python",
   "pygments_lexer": "ipython3",
   "version": "3.12.7"
  }
 },
 "nbformat": 4,
 "nbformat_minor": 5
}
