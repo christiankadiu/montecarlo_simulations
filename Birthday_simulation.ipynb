{
 "cells": [
  {
   "cell_type": "code",
   "execution_count": null,
   "id": "dfa0f496-5584-4860-8d7d-6f28c5ce6013",
   "metadata": {},
   "outputs": [],
   "source": [
    "#In un gruppo di n persone (es. 30), qual è la probabilità che almeno due persone compiano gli anni lo stesso giorno?"
   ]
  },
  {
   "cell_type": "code",
   "execution_count": 11,
   "id": "4df57f9f-388c-492a-951f-bde09f72a374",
   "metadata": {},
   "outputs": [],
   "source": [
    "import numpy as np\n",
    "import matplotlib.pyplot as plt\n",
    "import random\n",
    "from collections import Counter"
   ]
  },
  {
   "cell_type": "code",
   "execution_count": 29,
   "id": "88ca45f4-4eb7-4366-811b-df6983fc48e2",
   "metadata": {},
   "outputs": [
    {
     "name": "stdout",
     "output_type": "stream",
     "text": [
      "70.52000000000001\n"
     ]
    }
   ],
   "source": [
    "N = 10000 #numero di simulazioni\n",
    "n = 30 #numero di persone coinvolte \n",
    "compleanni = []\n",
    "table = np.zeros((N, n))\n",
    "collisioni = np.zeros(N)\n",
    "\n",
    "for i in range(N):\n",
    "    for k in range(n):\n",
    "        compleanno = random.randint(1, 365)\n",
    "        table[i][k] = compleanno\n",
    "    if no_collision(table[i]):\n",
    "        collisioni[i] = True;\n",
    "perc_collisioni = (np.count_nonzero(collisioni) / N) * 100\n",
    "print(perc_collisioni)"
   ]
  },
  {
   "cell_type": "code",
   "execution_count": 19,
   "id": "d49a3b6c-3e07-4130-a045-d288df44fd4c",
   "metadata": {},
   "outputs": [],
   "source": [
    "def no_collision(array):\n",
    "    giorni_amici = Counter(array)\n",
    "    giorni_amici = dict(giorni_amici)\n",
    "    for giorno in giorni_amici:\n",
    "        if giorni_amici[giorno] > 1:\n",
    "            return True\n",
    "    return False"
   ]
  },
  {
   "cell_type": "code",
   "execution_count": null,
   "id": "da443e65-873c-48e8-9b30-c4049274ea45",
   "metadata": {},
   "outputs": [],
   "source": []
  }
 ],
 "metadata": {
  "kernelspec": {
   "display_name": "Python [conda env:base] *",
   "language": "python",
   "name": "conda-base-py"
  },
  "language_info": {
   "codemirror_mode": {
    "name": "ipython",
    "version": 3
   },
   "file_extension": ".py",
   "mimetype": "text/x-python",
   "name": "python",
   "nbconvert_exporter": "python",
   "pygments_lexer": "ipython3",
   "version": "3.12.7"
  }
 },
 "nbformat": 4,
 "nbformat_minor": 5
}
